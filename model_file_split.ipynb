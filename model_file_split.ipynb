{
 "cells": [
  {
   "cell_type": "code",
   "execution_count": 2,
   "id": "8b862aa3",
   "metadata": {
    "ExecuteTime": {
     "end_time": "2024-06-22T04:42:51.591608Z",
     "start_time": "2024-06-22T04:42:51.588627Z"
    }
   },
   "outputs": [],
   "source": [
    "import os"
   ]
  },
  {
   "cell_type": "code",
   "execution_count": 5,
   "id": "fddd40a0",
   "metadata": {
    "ExecuteTime": {
     "end_time": "2024-06-22T04:47:15.559455Z",
     "start_time": "2024-06-22T04:47:15.551026Z"
    }
   },
   "outputs": [
    {
     "name": "stdout",
     "output_type": "stream",
     "text": [
      "./nesg-cnn-natural-number-512-512-512-1-16-2-False.pt\n",
      "./tf_0.0001_512_8_3_3_512_0.1_1024_6.pt\n"
     ]
    }
   ],
   "source": [
    "root = '.'\n",
    "\n",
    "# source modle.bin file\n",
    "source_big_bin_files = ['nesg-cnn-natural-number-512-512-512-1-16-2-False.pt', 'tf_0.0001_512_8_3_3_512_0.1_1024_6.pt']\n",
    "\n",
    "for source_big_bin_file in source_big_bin_files:\n",
    "    source_big_bin_file = f'{root}/{source_big_bin_file}'\n",
    "    if os.path.exists(source_big_bin_file):\n",
    "        print(source_big_bin_file)\n",
    "        \n",
    "        # target dir\n",
    "        if not os.path.exists(source_big_bin_file[:-3]):\n",
    "            os.mkdir(source_big_bin_file[:-3])"
   ]
  },
  {
   "cell_type": "code",
   "execution_count": 8,
   "id": "76694e13",
   "metadata": {
    "ExecuteTime": {
     "end_time": "2024-06-22T04:51:43.224219Z",
     "start_time": "2024-06-22T04:51:42.560126Z"
    }
   },
   "outputs": [
    {
     "name": "stdout",
     "output_type": "stream",
     "text": [
      "ok\n",
      "ok\n"
     ]
    }
   ],
   "source": [
    "file_size = 1000 * 1000 * 49 # 49MB\n",
    "    \n",
    "# file split\n",
    "for source_big_bin_file, num_files in zip(source_big_bin_files, [10, 4]):\n",
    "    file_name = source_big_bin_file[:-3]\n",
    "    \n",
    "    with open(f'{root}/{source_big_bin_file}', 'rb') as infile:\n",
    "        contents = infile.read()\n",
    "\n",
    "        for i in range(num_files):\n",
    "            start = i * file_size\n",
    "            end = min((i + 1) * file_size, len(contents))\n",
    "            \n",
    "            with open(f'{root}/{file_name}/{file_name}_{i}.pt', 'wb') as outfile:\n",
    "                outfile.write(contents[start:end])\n",
    "\n",
    "    print('ok')"
   ]
  },
  {
   "cell_type": "code",
   "execution_count": 10,
   "id": "67c7bcad",
   "metadata": {
    "ExecuteTime": {
     "end_time": "2024-06-22T05:05:30.346924Z",
     "start_time": "2024-06-22T05:05:29.290199Z"
    }
   },
   "outputs": [
    {
     "name": "stdout",
     "output_type": "stream",
     "text": [
      ". nesg-cnn-natural-number-512-512-512-1-16-2-False.pt 10\n",
      "./nesg-cnn-natural-number-512-512-512-1-16-2-False.pt\n",
      ". tf_0.0001_512_8_3_3_512_0.1_1024_6.pt 4\n",
      "./tf_0.0001_512_8_3_3_512_0.1_1024_6.pt\n"
     ]
    }
   ],
   "source": [
    "# merge\n",
    "root = '.'\n",
    "file_size = 1000 * 1000 * 49 # 49MB\n",
    "source_num_files = [10, 4]\n",
    "source_big_bin_files = ['nesg-cnn-natural-number-512-512-512-1-16-2-False.pt', 'tf_0.0001_512_8_3_3_512_0.1_1024_6.pt']\n",
    "\n",
    "def merge_pt(model_path, target_file, num_files):\n",
    "    print(model_path, target_file, num_files)\n",
    "    \n",
    "    model_file_dir = target_file[:-3]\n",
    "    tag = target_file[-3:]\n",
    "    \n",
    "    if target_file[-3:] != '.pt':\n",
    "        model_file_dir = target_file[:-4]\n",
    "        tag = target_file[-4:]\n",
    "        \n",
    "    if not os.path.exists(model_file_dir):\n",
    "        raise\n",
    "\n",
    "    # merge\n",
    "    total_contents = bytes()\n",
    "\n",
    "    for i in range(num_files):\n",
    "        file_path = f'{model_path}/{model_file_dir}/{model_file_dir}_{i}{tag}'\n",
    "\n",
    "        with open(file_path, 'rb') as infile:\n",
    "            total_contents += infile.read()\n",
    "\n",
    "    # write\n",
    "    with open(f'{model_path}/{model_file_dir}{tag}', 'wb') as outfile:\n",
    "        outfile.write(total_contents)\n",
    "\n",
    "    print(f'{model_path}/{model_file_dir}{tag}')\n",
    "    \n",
    "for path, file, nums in zip([root, root], source_big_bin_files, source_num_files):\n",
    "    merge_pt(path, file, nums)"
   ]
  }
 ],
 "metadata": {
  "kernelspec": {
   "display_name": "Python 3 (ipykernel)",
   "language": "python",
   "name": "python3"
  },
  "language_info": {
   "codemirror_mode": {
    "name": "ipython",
    "version": 3
   },
   "file_extension": ".py",
   "mimetype": "text/x-python",
   "name": "python",
   "nbconvert_exporter": "python",
   "pygments_lexer": "ipython3",
   "version": "3.10.11"
  },
  "toc": {
   "base_numbering": 1,
   "nav_menu": {},
   "number_sections": true,
   "sideBar": true,
   "skip_h1_title": false,
   "title_cell": "Table of Contents",
   "title_sidebar": "Contents",
   "toc_cell": false,
   "toc_position": {},
   "toc_section_display": true,
   "toc_window_display": false
  },
  "varInspector": {
   "cols": {
    "lenName": 16,
    "lenType": 16,
    "lenVar": 40
   },
   "kernels_config": {
    "python": {
     "delete_cmd_postfix": "",
     "delete_cmd_prefix": "del ",
     "library": "var_list.py",
     "varRefreshCmd": "print(var_dic_list())"
    },
    "r": {
     "delete_cmd_postfix": ") ",
     "delete_cmd_prefix": "rm(",
     "library": "var_list.r",
     "varRefreshCmd": "cat(var_dic_list()) "
    }
   },
   "types_to_exclude": [
    "module",
    "function",
    "builtin_function_or_method",
    "instance",
    "_Feature"
   ],
   "window_display": false
  }
 },
 "nbformat": 4,
 "nbformat_minor": 5
}
